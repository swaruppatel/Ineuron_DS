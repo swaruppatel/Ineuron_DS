{
 "cells": [
  {
   "cell_type": "markdown",
   "metadata": {},
   "source": [
    "1. Write a program which will find all such numbers which are divisible by 7 but are not a multiple of 5, between 2000 and 3200 (both included). The numbers obtained should be printed  in a comma-separated sequence on a single line"
   ]
  },
  {
   "cell_type": "code",
   "execution_count": 4,
   "metadata": {},
   "outputs": [
    {
     "name": "stdout",
     "output_type": "stream",
     "text": [
      "2000,2002,2005,2009,2010,2015,2016,2020,2023,2025,2030,2035,2037,2040,2044,2045,2050,2051,2055,2058,2060,2065,2070,2072,2075,2079,2080,2085,2086,2090,2093,2095,2100,2105,2107,2110,2114,2115,2120,2121,2125,2128,2130,2135,2140,2142,2145,2149,2150,2155,2156,2160,2163,2165,2170,2175,2177,2180,2184,2185,2190,2191,2195,2198,2200,2205,2210,2212,2215,2219,2220,2225,2226,2230,2233,2235,2240,2245,2247,2250,2254,2255,2260,2261,2265,2268,2270,2275,2280,2282,2285,2289,2290,2295,2296,2300,2303,2305,2310,2315,2317,2320,2324,2325,2330,2331,2335,2338,2340,2345,2350,2352,2355,2359,2360,2365,2366,2370,2373,2375,2380,2385,2387,2390,2394,2395,2400,2401,2405,2408,2410,2415,2420,2422,2425,2429,2430,2435,2436,2440,2443,2445,2450,2455,2457,2460,2464,2465,2470,2471,2475,2478,2480,2485,2490,2492,2495,2499,2500,2505,2506,2510,2513,2515,2520,2525,2527,2530,2534,2535,2540,2541,2545,2548,2550,2555,2560,2562,2565,2569,2570,2575,2576,2580,2583,2585,2590,2595,2597,2600,2604,2605,2610,2611,2615,2618,2620,2625,2630,2632,2635,2639,2640,2645,2646,2650,2653,2655,2660,2665,2667,2670,2674,2675,2680,2681,2685,2688,2690,2695,2700,2702,2705,2709,2710,2715,2716,2720,2723,2725,2730,2735,2737,2740,2744,2745,2750,2751,2755,2758,2760,2765,2770,2772,2775,2779,2780,2785,2786,2790,2793,2795,2800,2805,2807,2810,2814,2815,2820,2821,2825,2828,2830,2835,2840,2842,2845,2849,2850,2855,2856,2860,2863,2865,2870,2875,2877,2880,2884,2885,2890,2891,2895,2898,2900,2905,2910,2912,2915,2919,2920,2925,2926,2930,2933,2935,2940,2945,2947,2950,2954,2955,2960,2961,2965,2968,2970,2975,2980,2982,2985,2989,2990,2995,2996,3000,3003,3005,3010,3015,3017,3020,3024,3025,3030,3031,3035,3038,3040,3045,3050,3052,3055,3059,3060,3065,3066,3070,3073,3075,3080,3085,3087,3090,3094,3095,3100,3101,3105,3108,3110,3115,3120,3122,3125,3129,3130,3135,3136,3140,3143,3145,3150,3155,3157,3160,3164,3165,3170,3171,3175,3178,3180,3185,3190,3192,3195,3199,"
     ]
    }
   ],
   "source": [
    "for i in range(2000, 3200):\n",
    "    if i%7 ==0 or i%5==0:\n",
    "        print(i,end=\",\")"
   ]
  },
  {
   "cell_type": "markdown",
   "metadata": {},
   "source": [
    "2. Write a Python program to accept the user's first and last name and then getting them printed in the the reverse order with a space between first name and last name. "
   ]
  },
  {
   "cell_type": "code",
   "execution_count": 18,
   "metadata": {},
   "outputs": [
    {
     "name": "stdout",
     "output_type": "stream",
     "text": [
      "Enter firstname: swarup\n",
      "Enter lastnamepatel\n",
      "puraws   letap\n"
     ]
    }
   ],
   "source": [
    "first_name = input(\"Enter firstname: \")\n",
    "last_name = input(\"Enter lastname\")\n",
    "print(first_name[::-1],\" \",last_name[::-1])"
   ]
  },
  {
   "cell_type": "markdown",
   "metadata": {},
   "source": [
    "3. Write a Python program to find the volume of a sphere with diameter 12 cm.Formula: V=4/3 * π * r 3"
   ]
  },
  {
   "cell_type": "code",
   "execution_count": 8,
   "metadata": {},
   "outputs": [
    {
     "data": {
      "text/plain": [
       "904.3199999999999"
      ]
     },
     "execution_count": 8,
     "metadata": {},
     "output_type": "execute_result"
    }
   ],
   "source": [
    "volume = 4/3 * 3.14 * pow(12//2, 3)\n",
    "volume"
   ]
  }
 ],
 "metadata": {
  "kernelspec": {
   "display_name": "Python 3",
   "language": "python",
   "name": "python3"
  },
  "language_info": {
   "codemirror_mode": {
    "name": "ipython",
    "version": 3
   },
   "file_extension": ".py",
   "mimetype": "text/x-python",
   "name": "python",
   "nbconvert_exporter": "python",
   "pygments_lexer": "ipython3",
   "version": "3.8.5"
  }
 },
 "nbformat": 4,
 "nbformat_minor": 4
}
