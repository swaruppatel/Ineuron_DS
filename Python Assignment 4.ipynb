{
 "cells": [
  {
   "cell_type": "markdown",
   "metadata": {},
   "source": [
    "1.1 Write a Python Program(with class concepts) to find the area of the triangle using the below  formula. \n",
    "area = (s*(s-a)*(s-b)*(s-c)) ** 0.5 \n",
    "Function to take the length of the sides of triangle from user should be defined in the parent  class and function to calculate the area should be defined in subclass."
   ]
  },
  {
   "cell_type": "code",
   "execution_count": 14,
   "metadata": {},
   "outputs": [
    {
     "name": "stdout",
     "output_type": "stream",
     "text": [
      "Enter the length of the 1st side of the triangle: 15\n",
      "Enter the length of the 2nd side of the triangle: 65\n",
      "Enter the length of the 3rd side of the triangle: 96\n",
      "<class 'float'>\n",
      "-591008.0\n"
     ]
    }
   ],
   "source": [
    "class Triangle:\n",
    "    \n",
    "    def __init__(self, a,b,c):\n",
    "        self.a = a\n",
    "        self.b = b\n",
    "        self.c = c\n",
    "    \n",
    "    def find_area(a, b, c):\n",
    "        print(type(c))\n",
    "        s = (a + b + c) / 2\n",
    "        area = (s*(s-a)*(s-b)*(s-c)) * 0.5\n",
    "        return area\n",
    "        \n",
    "    side1 = float(input(\"Enter the length of the 1st side of the triangle: \"))\n",
    "    side2 = float(input(\"Enter the length of the 2nd side of the triangle: \"))\n",
    "    side3 = float(input(\"Enter the length of the 3rd side of the triangle: \"))\n",
    "    \n",
    "    print(find_area(side1, side2, side3))"
   ]
  },
  {
   "cell_type": "markdown",
   "metadata": {},
   "source": [
    "1.2 Write a function filter_long_words() that takes a list of words and an integer n and returns  the list of words that are longer than n."
   ]
  },
  {
   "cell_type": "code",
   "execution_count": 11,
   "metadata": {},
   "outputs": [
    {
     "name": "stdout",
     "output_type": "stream",
     "text": [
      "provide the length: 5\n",
      "['pinaple', 'orange']\n"
     ]
    }
   ],
   "source": [
    "def filter_long_words(words, n):\n",
    "    li = list()\n",
    "    for i in words:\n",
    "        if len(i) > n:\n",
    "            li.append(i)\n",
    "    return li\n",
    "    \n",
    "li = [\"apple\", \"pinaple\", \"orange\", \"mango\"]\n",
    "f = filter_long_words(li, int(input(\"provide the length: \")))\n",
    "print(f)"
   ]
  },
  {
   "cell_type": "markdown",
   "metadata": {},
   "source": [
    "2.1 Write a Python program using function concept that maps list of words into a list of integers  representing the lengths of the corresponding words. \n",
    "Hint: If a list [ ab,cde,erty] is passed on to the python function output should come as [2,3,4] Here 2,3 and 4 are the lengths of the words in the list."
   ]
  },
  {
   "cell_type": "code",
   "execution_count": 26,
   "metadata": {},
   "outputs": [
    {
     "name": "stdout",
     "output_type": "stream",
     "text": [
      "printing input list:  ['ab', 'cde', 'erty']\n",
      "printing the length of the words:  [2, 3, 4]\n"
     ]
    }
   ],
   "source": [
    "def find_word_length(words):\n",
    "    li = list()\n",
    "    for i in words:\n",
    "        li.append(len(i))\n",
    "    return li\n",
    "\n",
    "\n",
    "inputData = [\"ab\",\"cde\",\"erty\"]\n",
    "print(\"printing input list: \",inputData)\n",
    "f = find_word_length(inputData)\n",
    "print(\"printing the length of the words: \",f)"
   ]
  },
  {
   "cell_type": "markdown",
   "metadata": {},
   "source": [
    "2.2 Write a Python function which takes a character (i.e. a string of length 1) and returns True if  it is a vowel, False otherwise."
   ]
  },
  {
   "cell_type": "code",
   "execution_count": 2,
   "metadata": {},
   "outputs": [
    {
     "name": "stdout",
     "output_type": "stream",
     "text": [
      "Enter the character to check the vowel: A\n"
     ]
    },
    {
     "data": {
      "text/plain": [
       "True"
      ]
     },
     "execution_count": 2,
     "metadata": {},
     "output_type": "execute_result"
    }
   ],
   "source": [
    "vowel_check = lambda x: x.lower() in ['a', 'e', 'i', 'o', 'u']\n",
    "character = input(\"Enter the character to check the vowel: \").lower()\n",
    "vowel_check(character)"
   ]
  }
 ],
 "metadata": {
  "kernelspec": {
   "display_name": "Python 3",
   "language": "python",
   "name": "python3"
  },
  "language_info": {
   "codemirror_mode": {
    "name": "ipython",
    "version": 3
   },
   "file_extension": ".py",
   "mimetype": "text/x-python",
   "name": "python",
   "nbconvert_exporter": "python",
   "pygments_lexer": "ipython3",
   "version": "3.8.5"
  }
 },
 "nbformat": 4,
 "nbformat_minor": 4
}
